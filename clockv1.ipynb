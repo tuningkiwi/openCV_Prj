{
 "cells": [
  {
   "cell_type": "code",
   "execution_count": 7,
   "metadata": {},
   "outputs": [
    {
     "name": "stdout",
     "output_type": "stream",
     "text": [
      "(512, 512, 3)\n",
      "786432\n"
     ]
    }
   ],
   "source": [
    "import cv2\n",
    "img = cv2.imread(\"images/lena.jpg\")\n",
    "print(img.shape)\n",
    "img[0,0]\n",
    "print(img.size)\n"
   ]
  },
  {
   "cell_type": "code",
   "execution_count": 62,
   "metadata": {},
   "outputs": [
    {
     "name": "stdout",
     "output_type": "stream",
     "text": [
      "17:14:00.373232 / 17 / 14 / 0 /\n",
      "86.60254037844386\n",
      "-50.0\n",
      "1 350 66\n"
     ]
    }
   ],
   "source": [
    "import cv2\n",
    "import numpy as np \n",
    "from datetime import datetime\n",
    "\n",
    "\n",
    "img = np.full((500,500,3),255,dtype = np.uint8) #흰도화지 만들기 \n",
    "\n",
    "#시계 원 \n",
    "cv2.circle(img,(250,250),220,(255,0,0),3)\n",
    "\n",
    "#시간 1~12\n",
    "def mouseHandler(event,x,y,flags,param ):\n",
    "    if event == cv2.EVENT_LBUTTONDOWN:\n",
    "        print(event,x,y)\n",
    "        # #filename =  str(datetime.second) +'.jpg'\n",
    "        # #filename =  \"hello\"+ str(datetime.today().second) +'.jpg' \n",
    "        # filename =  \"hello\"+ str(datetime.today()) +'.jpg' \n",
    "        # filename = filename.replace(\":\",\"_\")\n",
    "        # print(filename)\n",
    "        # cv2.imwrite(filename,img)\n",
    "cv2.namedWindow(\"circle\")\n",
    "cv2.setMouseCallback(\"circle\",mouseHandler) #콜백 함수 \n",
    "\n",
    "cv2.putText(img,\"12\",(220,60),cv2.FONT_ITALIC,1,(0,0,0))\n",
    "cv2.putText(img,\"3\",(450,250),cv2.FONT_ITALIC,1,(0,0,0))\n",
    "cv2.putText(img,\"6\",(240,470),cv2.FONT_ITALIC,1,(0,0,0))\n",
    "cv2.putText(img,\"9\",(30,250),cv2.FONT_ITALIC,1,(0,0,0))\n",
    "cur_time= str(datetime.today().time())\n",
    "cur_hour = int(cur_time[:2])\n",
    "cur_minute = int(cur_time[3:5])\n",
    "cur_second = int(cur_time[6:8])\n",
    "\n",
    "print(cur_time,\"/\",cur_hour,\"/\",cur_minute,\"/\",cur_second,\"/\",)\n",
    "\n",
    "#초침 \n",
    "#15초일 때\n",
    "s_length = 100\n",
    "#sec = cur_second\n",
    "sec = 5\n",
    "xs = s_length * np.cos((-np.pi/180)*6*sec)\n",
    "print(xs)\n",
    "ys = s_length * np.sin((-np.pi/180)*6*sec)\n",
    "print(ys)\n",
    "cv2.line(img,(250,250),(250+int(xs),250-int(ys)),(255,0,0),1) #255,0,0은 bgr 순서임\n",
    "\n",
    "\n",
    "# 시침 \n",
    "# cur_hour = int(cur_time[:2])% 12  #\n",
    "# cv2.line(img,(250,250),(200,10),(255,0,0),1) #255,0,0은 bgr 순서임\n",
    "\n",
    "\n",
    "\n",
    "cv2.imshow('circle',img)\n",
    "cv2.waitKey(0)\n",
    "cv2.destroyAllWindows()\n",
    "\n"
   ]
  },
  {
   "cell_type": "code",
   "execution_count": 51,
   "metadata": {},
   "outputs": [
    {
     "name": "stdout",
     "output_type": "stream",
     "text": [
      "43.30127018922194\n",
      "24.999999999999996\n"
     ]
    },
    {
     "data": {
      "text/plain": [
       "50.0"
      ]
     },
     "execution_count": 51,
     "metadata": {},
     "output_type": "execute_result"
    }
   ],
   "source": [
    "xs = 50 * np.cos((np.pi/180)*30)\n",
    "print(xs)\n",
    "ys = 50 * np.sin((np.pi/180)*(30))\n",
    "print(ys)\n",
    "\n",
    "np.sqrt(np.square(xs)+np.square(ys))\n",
    "\n",
    "                                                                                 "
   ]
  },
  {
   "cell_type": "code",
   "execution_count": null,
   "metadata": {},
   "outputs": [],
   "source": []
  }
 ],
 "metadata": {
  "kernelspec": {
   "display_name": "Python 3",
   "language": "python",
   "name": "python3"
  },
  "language_info": {
   "codemirror_mode": {
    "name": "ipython",
    "version": 3
   },
   "file_extension": ".py",
   "mimetype": "text/x-python",
   "name": "python",
   "nbconvert_exporter": "python",
   "pygments_lexer": "ipython3",
   "version": "3.11.7"
  }
 },
 "nbformat": 4,
 "nbformat_minor": 2
}
